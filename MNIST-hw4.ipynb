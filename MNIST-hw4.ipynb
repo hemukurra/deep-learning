{
  "nbformat": 4,
  "nbformat_minor": 0,
  "metadata": {
    "colab": {
      "provenance": [],
      "authorship_tag": "ABX9TyNpPN+3e29Rkq5lhnkBGA4I",
      "include_colab_link": true
    },
    "kernelspec": {
      "name": "python3",
      "display_name": "Python 3"
    },
    "language_info": {
      "name": "python"
    }
  },
  "cells": [
    {
      "cell_type": "markdown",
      "metadata": {
        "id": "view-in-github",
        "colab_type": "text"
      },
      "source": [
        "<a href=\"https://colab.research.google.com/github/hemukurra/deep-learning/blob/main/MNIST-hw4.ipynb\" target=\"_parent\"><img src=\"https://colab.research.google.com/assets/colab-badge.svg\" alt=\"Open In Colab\"/></a>"
      ]
    },
    {
      "cell_type": "code",
      "source": [
        "# name : Hemanth Kurra"
      ],
      "metadata": {
        "id": "YRDuWYsM0otp"
      },
      "execution_count": null,
      "outputs": []
    },
    {
      "cell_type": "code",
      "execution_count": 17,
      "metadata": {
        "id": "ALG4lAXSbH34"
      },
      "outputs": [],
      "source": [
        "import numpy as np\n",
        "import gzip\n",
        "import struct\n",
        "\n",
        "def read_idx(filename):\n",
        "    with gzip.open(filename, 'rb') as f:\n",
        "        zero, data_type, dims = struct.unpack('>HBB', f.read(4))\n",
        "        shape = tuple(struct.unpack('>I', f.read(4))[0] for d in range(dims))\n",
        "        return np.frombuffer(f.read(), dtype=np.uint8).reshape(shape)\n",
        "\n"
      ]
    },
    {
      "cell_type": "markdown",
      "source": [],
      "metadata": {
        "id": "F5ahoYXPcDj9"
      }
    },
    {
      "cell_type": "code",
      "source": [
        "# Loading  training and testing data from your local path for WSL\n",
        "train_images = read_idx('/mnt/d/HW4/train-images-idx3-ubyte.gz')\n",
        "train_labels = read_idx('/mnt/d/HW4/train-labels-idx1-ubyte.gz')\n",
        "test_images = read_idx('/mnt/d/HW4/t10k-images-idx3-ubyte.gz')\n",
        "test_labels = read_idx('/mnt/d/HW4/t10k-labels-idx1-ubyte.gz')\n",
        "\n",
        "# Print the shapes of the datasets to confirm\n",
        "print(f'Train Images Shape: {train_images.shape}')\n",
        "print(f'Train Labels Shape: {train_labels.shape}')\n",
        "print(f'Test Images Shape: {test_images.shape}')\n",
        "print(f'Test Labels Shape: {test_labels.shape}')\n"
      ],
      "metadata": {
        "colab": {
          "base_uri": "https://localhost:8080/"
        },
        "id": "IXpFNy9GcXap",
        "outputId": "58f8e3eb-6574-47a7-d9d3-e9a0850cd9fa"
      },
      "execution_count": 50,
      "outputs": [
        {
          "output_type": "stream",
          "name": "stdout",
          "text": [
            "Train Images Shape: (60000, 28, 28)\n",
            "Train Labels Shape: (60000,)\n",
            "Test Images Shape: (10000, 28, 28)\n",
            "Test Labels Shape: (10000,)\n"
          ]
        }
      ]
    },
    {
      "cell_type": "code",
      "source": [
        "import matplotlib.pyplot as plt\n",
        "\n",
        "# Displaying a random training image with its label\n",
        "index = np.random.randint(0, train_images.shape[0])\n",
        "plt.imshow(train_images[index], cmap='gray')\n",
        "plt.title(f'Label: {train_labels[index]}')\n",
        "plt.show()\n",
        "\n"
      ],
      "metadata": {
        "colab": {
          "base_uri": "https://localhost:8080/",
          "height": 452
        },
        "id": "6UQWBcKycomU",
        "outputId": "9bb96b42-32e9-4194-9f24-2b4ef5df8280"
      },
      "execution_count": 41,
      "outputs": [
        {
          "output_type": "display_data",
          "data": {
            "text/plain": [
              "<Figure size 640x480 with 1 Axes>"
            ],
            "image/png": "[encoded data removed]"
          },
          "metadata": {}
        }
      ]
    },
    {
      "cell_type": "code",
      "source": [
        "# Step 2(a): Normalizing the pixel values\n",
        "train_images = train_images / 255.0\n",
        "test_images = test_images / 255.0\n",
        "\n",
        "# Step 2(b): One-hot encode the labels\n",
        "def one_hot_encode(labels, num_classes=10):\n",
        "    return np.eye(num_classes)[labels]\n",
        "\n",
        "# Appling one-hot encoding\n",
        "train_labels = one_hot_encode(train_labels)\n",
        "test_labels = one_hot_encode(test_labels)\n",
        "\n",
        "# Printing to confirm normalization and one-hot encoding\n",
        "print(f'Normalized Train Image Sample Pixel Value Range: {train_images[0].min()} to {train_images[0].max()}')\n",
        "print(f'One-Hot Encoded Label Example: {train_labels[0]}')\n"
      ],
      "metadata": {
        "colab": {
          "base_uri": "https://localhost:8080/"
        },
        "id": "FFu3ApyEdaNt",
        "outputId": "264e3ce9-7874-444f-c411-72def50a51ae"
      },
      "execution_count": 51,
      "outputs": [
        {
          "output_type": "stream",
          "name": "stdout",
          "text": [
            "Normalized Train Image Sample Pixel Value Range: 0.0 to 1.0\n",
            "One-Hot Encoded Label Example: [0. 0. 0. 0. 0. 1. 0. 0. 0. 0.]\n"
          ]
        }
      ]
    },
    {
      "cell_type": "code",
      "source": [
        "# Step 3(a): Defining the sigmoid function and its derivative\n",
        "def sigmoid(x):\n",
        "    return 1 / (1 + np.exp(-x))\n",
        "\n",
        "def sigmoid_derivative(x):\n",
        "    return sigmoid(x) * (1 - sigmoid(x))\n",
        "\n",
        "# Step 3(a): Defining the softmax function for the output layer\n",
        "def softmax(x):\n",
        "    exp_x = np.exp(x - np.max(x, axis=1, keepdims=True))\n",
        "    return exp_x / np.sum(exp_x, axis=1, keepdims=True)\n",
        "\n",
        "# Step 3(b): Initializing weights and biases\n",
        "np.random.seed(695)  # Set seed for reproducibility\n",
        "\n",
        "input_size = 784  # 28x28 input images flattened\n",
        "hidden_layer1_size = 128\n",
        "hidden_layer2_size = 64\n",
        "output_size = 10  # 10 classes for digits 0-9\n",
        "\n",
        "# Initializing weights and biases\n",
        "W1 = np.random.uniform(-0.5, 0.5, (input_size, hidden_layer1_size))\n",
        "b1 = np.zeros((1, hidden_layer1_size))\n",
        "W2 = np.random.uniform(-0.5, 0.5, (hidden_layer1_size, hidden_layer2_size))\n",
        "b2 = np.zeros((1, hidden_layer2_size))\n",
        "W3 = np.random.uniform(-0.5, 0.5, (hidden_layer2_size, output_size))\n",
        "b3 = np.zeros((1, output_size))\n",
        "\n",
        "print(\"Weights and biases initialized.\")\n"
      ],
      "metadata": {
        "colab": {
          "base_uri": "https://localhost:8080/"
        },
        "id": "XFTMeds-eYRA",
        "outputId": "c5ea7745-5404-4268-ab5f-d59bc5284889"
      },
      "execution_count": 75,
      "outputs": [
        {
          "output_type": "stream",
          "name": "stdout",
          "text": [
            "Weights and biases initialized.\n"
          ]
        }
      ]
    },
    {
      "cell_type": "code",
      "source": [
        "# Step 4(a): Defining the feed_forward function\n",
        "def feed_forward(x, W1, b1, W2, b2, W3, b3):\n",
        "    # Layer 1: Input to first hidden layer\n",
        "    z1 = np.dot(x, W1) + b1\n",
        "    a1 = sigmoid(z1)\n",
        "\n",
        "    # Layer 2: First hidden layer to second hidden layer\n",
        "    z2 = np.dot(a1, W2) + b2\n",
        "    a2 = sigmoid(z2)\n",
        "\n",
        "    # Output layer: Second hidden layer to output layer\n",
        "    z3 = np.dot(a2, W3) + b3\n",
        "    a3 = softmax(z3)\n",
        "\n",
        "    return a1, a2, a3  # Return activations for backpropagation\n",
        "\n",
        "# Testing feed forward on a single example\n",
        "sample_input = train_images[0].reshape(1, -1)  # Flatten the 28x28 image to 784\n",
        "_, _, sample_output = feed_forward(sample_input, W1, b1, W2, b2, W3, b3)\n",
        "\n",
        "print(\"Feed forward test completed. Output:\", sample_output)\n"
      ],
      "metadata": {
        "colab": {
          "base_uri": "https://localhost:8080/"
        },
        "id": "0T94zWODejWN",
        "outputId": "e970bab6-f354-42bf-a4ca-9277c5fe7430"
      },
      "execution_count": 271,
      "outputs": [
        {
          "output_type": "stream",
          "name": "stdout",
          "text": [
            "Feed forward test completed. Output: [[3.48696560e-03 1.97740618e-03 2.77202135e-03 5.01045537e-01\n",
            "  4.46614125e-05 4.54353407e-01 3.62205230e-04 7.61970385e-03\n",
            "  2.14793823e-02 6.85871065e-03]]\n"
          ]
        }
      ]
    },
    {
      "cell_type": "code",
      "source": [
        "def categorical_crossentropy(y_true, y_pred):\n",
        "    n_samples = y_true.shape[0]\n",
        "    y_pred_clipped = np.clip(y_pred, 1e-12, 1 - 1e-12)  # Avoid log(0)\n",
        "    return -np.sum(y_true * np.log(y_pred_clipped)) / n_samples\n"
      ],
      "metadata": {
        "id": "zZecyuy0etNS"
      },
      "execution_count": 274,
      "outputs": []
    },
    {
      "cell_type": "code",
      "source": [
        "def backpropagation(x, y_true, a1, a2, a3, W1, W2, W3):\n",
        "    # Number of samples\n",
        "    n_samples = x.shape[0]\n",
        "\n",
        "    # Computing the gradient for the output layer\n",
        "    dz3 = a3 - y_true  # Gradient of loss with respect to a3\n",
        "    dW3 = np.dot(a2.T, dz3) / n_samples\n",
        "    db3 = np.sum(dz3, axis=0, keepdims=True) / n_samples\n",
        "\n",
        "    # Computing the gradient for the second hidden layer\n",
        "    dz2 = np.dot(dz3, W3.T) * sigmoid_derivative(a2)\n",
        "    dW2 = np.dot(a1.T, dz2) / n_samples\n",
        "    db2 = np.sum(dz2, axis=0, keepdims=True) / n_samples\n",
        "\n",
        "    # Computing the gradient for the first hidden layer\n",
        "    dz1 = np.dot(dz2, W2.T) * sigmoid_derivative(a1)\n",
        "    dW1 = np.dot(x.T, dz1) / n_samples\n",
        "    db1 = np.sum(dz1, axis=0, keepdims=True) / n_samples\n",
        "\n",
        "    return dW1, db1, dW2, db2, dW3, db3\n"
      ],
      "metadata": {
        "id": "WhOu4jJEeuPL"
      },
      "execution_count": 275,
      "outputs": []
    },
    {
      "cell_type": "code",
      "source": [
        "# Step 6: Training the model using mini-batch gradient descent\n",
        "def train_model(train_images, train_labels, W1, b1, W2, b2, W3, b3, epochs=100, batch_size=128, learning_rate=0.01):\n",
        "    n_samples = train_images.shape[0]\n",
        "    for epoch in range(epochs):\n",
        "        # Shuffle the data at the beginning of each epoch\n",
        "        indices = np.arange(n_samples)\n",
        "        np.random.shuffle(indices)\n",
        "        train_images = train_images[indices]\n",
        "        train_labels = train_labels[indices]\n",
        "\n",
        "        # Mini-batch gradient descent\n",
        "        for i in range(0, n_samples, batch_size):\n",
        "            x_batch = train_images[i:i + batch_size]\n",
        "            y_batch = train_labels[i:i + batch_size]\n",
        "\n",
        "            # Feed forward\n",
        "            a1, a2, a3 = feed_forward(x_batch, W1, b1, W2, b2, W3, b3)\n",
        "\n",
        "            # Backpropagation\n",
        "            dW1, db1, dW2, db2, dW3, db3 = backpropagation(x_batch, y_batch, a1, a2, a3, W1, W2, W3)\n",
        "\n",
        "            # Update weights and biases\n",
        "            W1 -= learning_rate * dW1\n",
        "            b1 -= learning_rate * db1\n",
        "            W2 -= learning_rate * dW2\n",
        "            b2 -= learning_rate * db2\n",
        "            W3 -= learning_rate * dW3\n",
        "            b3 -= learning_rate * db3\n",
        "\n",
        "        # Calculating the loss for the entire training set\n",
        "        _, _, a3_full = feed_forward(train_images, W1, b1, W2, b2, W3, b3)\n",
        "        loss = categorical_crossentropy(train_labels, a3_full)\n",
        "        print(f'Epoch {epoch + 1}/{epochs}, Loss: {loss:.4f}')\n",
        "\n",
        "    return W1, b1, W2, b2, W3, b3\n",
        "\n",
        "# Training the model on cpu\n",
        "W1, b1, W2, b2, W3, b3 = train_model(train_images.reshape(-1, 784), train_labels, W1, b1, W2, b2, W3, b3)\n"
      ],
      "metadata": {
        "colab": {
          "base_uri": "https://localhost:8080/"
        },
        "id": "i6CDbqwgfNQj",
        "outputId": "fad92084-988a-40f6-c6d7-f6c7682a4314"
      },
      "execution_count": 278,
      "outputs": [
        {
          "output_type": "stream",
          "name": "stdout",
          "text": [
            "Epoch 1/100, Loss: 0.2861\n",
            "Epoch 2/100, Loss: 0.2858\n",
            "Epoch 3/100, Loss: 0.2858\n",
            "Epoch 4/100, Loss: 0.2855\n",
            "Epoch 5/100, Loss: 0.2849\n",
            "Epoch 6/100, Loss: 0.2847\n",
            "Epoch 7/100, Loss: 0.2844\n",
            "Epoch 8/100, Loss: 0.2843\n",
            "Epoch 9/100, Loss: 0.2839\n",
            "Epoch 10/100, Loss: 0.2837\n",
            "Epoch 11/100, Loss: 0.2833\n",
            "Epoch 12/100, Loss: 0.2831\n",
            "Epoch 13/100, Loss: 0.2830\n",
            "Epoch 14/100, Loss: 0.2828\n",
            "Epoch 15/100, Loss: 0.2824\n",
            "Epoch 16/100, Loss: 0.2824\n",
            "Epoch 17/100, Loss: 0.2822\n",
            "Epoch 18/100, Loss: 0.2817\n",
            "Epoch 19/100, Loss: 0.2816\n",
            "Epoch 20/100, Loss: 0.2812\n",
            "Epoch 21/100, Loss: 0.2812\n",
            "Epoch 22/100, Loss: 0.2805\n",
            "Epoch 23/100, Loss: 0.2805\n",
            "Epoch 24/100, Loss: 0.2805\n",
            "Epoch 25/100, Loss: 0.2802\n",
            "Epoch 26/100, Loss: 0.2800\n",
            "Epoch 27/100, Loss: 0.2797\n",
            "Epoch 28/100, Loss: 0.2796\n",
            "Epoch 29/100, Loss: 0.2794\n",
            "Epoch 30/100, Loss: 0.2791\n",
            "Epoch 31/100, Loss: 0.2794\n",
            "Epoch 32/100, Loss: 0.2790\n",
            "Epoch 33/100, Loss: 0.2791\n",
            "Epoch 34/100, Loss: 0.2790\n",
            "Epoch 35/100, Loss: 0.2784\n",
            "Epoch 36/100, Loss: 0.2784\n",
            "Epoch 37/100, Loss: 0.2781\n",
            "Epoch 38/100, Loss: 0.2781\n",
            "Epoch 39/100, Loss: 0.2781\n",
            "Epoch 40/100, Loss: 0.2779\n",
            "Epoch 41/100, Loss: 0.2775\n",
            "Epoch 42/100, Loss: 0.2773\n",
            "Epoch 43/100, Loss: 0.2772\n",
            "Epoch 44/100, Loss: 0.2771\n",
            "Epoch 45/100, Loss: 0.2772\n",
            "Epoch 46/100, Loss: 0.2767\n",
            "Epoch 47/100, Loss: 0.2768\n",
            "Epoch 48/100, Loss: 0.2765\n",
            "Epoch 49/100, Loss: 0.2767\n",
            "Epoch 50/100, Loss: 0.2763\n",
            "Epoch 51/100, Loss: 0.2766\n",
            "Epoch 52/100, Loss: 0.2763\n",
            "Epoch 53/100, Loss: 0.2760\n",
            "Epoch 54/100, Loss: 0.2764\n",
            "Epoch 55/100, Loss: 0.2759\n",
            "Epoch 56/100, Loss: 0.2759\n",
            "Epoch 57/100, Loss: 0.2760\n",
            "Epoch 58/100, Loss: 0.2759\n",
            "Epoch 59/100, Loss: 0.2756\n",
            "Epoch 60/100, Loss: 0.2755\n",
            "Epoch 61/100, Loss: 0.2755\n",
            "Epoch 62/100, Loss: 0.2752\n",
            "Epoch 63/100, Loss: 0.2754\n",
            "Epoch 64/100, Loss: 0.2753\n",
            "Epoch 65/100, Loss: 0.2755\n",
            "Epoch 66/100, Loss: 0.2753\n",
            "Epoch 67/100, Loss: 0.2753\n",
            "Epoch 68/100, Loss: 0.2751\n",
            "Epoch 69/100, Loss: 0.2748\n",
            "Epoch 70/100, Loss: 0.2752\n",
            "Epoch 71/100, Loss: 0.2749\n",
            "Epoch 72/100, Loss: 0.2748\n",
            "Epoch 73/100, Loss: 0.2748\n",
            "Epoch 74/100, Loss: 0.2748\n",
            "Epoch 75/100, Loss: 0.2746\n",
            "Epoch 76/100, Loss: 0.2746\n",
            "Epoch 77/100, Loss: 0.2747\n",
            "Epoch 78/100, Loss: 0.2745\n",
            "Epoch 79/100, Loss: 0.2746\n",
            "Epoch 80/100, Loss: 0.2744\n",
            "Epoch 81/100, Loss: 0.2747\n",
            "Epoch 82/100, Loss: 0.2745\n",
            "Epoch 83/100, Loss: 0.2743\n",
            "Epoch 84/100, Loss: 0.2746\n",
            "Epoch 85/100, Loss: 0.2746\n",
            "Epoch 86/100, Loss: 0.2746\n",
            "Epoch 87/100, Loss: 0.2744\n",
            "Epoch 88/100, Loss: 0.2745\n",
            "Epoch 89/100, Loss: 0.2743\n",
            "Epoch 90/100, Loss: 0.2742\n",
            "Epoch 91/100, Loss: 0.2745\n",
            "Epoch 92/100, Loss: 0.2743\n",
            "Epoch 93/100, Loss: 0.2741\n",
            "Epoch 94/100, Loss: 0.2745\n",
            "Epoch 95/100, Loss: 0.2742\n",
            "Epoch 96/100, Loss: 0.2742\n",
            "Epoch 97/100, Loss: 0.2744\n",
            "Epoch 98/100, Loss: 0.2746\n",
            "Epoch 99/100, Loss: 0.2745\n",
            "Epoch 100/100, Loss: 0.2741\n"
          ]
        }
      ]
    },
    {
      "cell_type": "markdown",
      "source": [],
      "metadata": {
        "id": "EcKw6Iyp0lqm"
      }
    },
    {
      "cell_type": "code",
      "source": [
        "# Step 7(a): Predicting the labels of the test dataset and compute the accuracy\n",
        "def predict(x, W1, b1, W2, b2, W3, b3):\n",
        "    _, _, output = feed_forward(x, W1, b1, W2, b2, W3, b3)\n",
        "    return np.argmax(output, axis=1)\n",
        "\n",
        "# Flattening the test images\n",
        "test_images_flattened = test_images.reshape(-1, 784)\n",
        "\n",
        "# Get predictions for the test set\n",
        "predictions = predict(test_images_flattened, W1, b1, W2, b2, W3, b3)\n",
        "\n",
        "# Converting one-hot encoded labels back to integers for comparison\n",
        "true_labels = np.argmax(test_labels, axis=1)\n",
        "\n",
        "# Computing accuracy\n",
        "accuracy = np.mean(predictions == true_labels)\n",
        "print(f'Test Accuracy: {accuracy * 100:.2f}%')\n",
        "\n",
        "# Step 7(b): Plotting some misclassified images\n",
        "misclassified_indices = np.where(predictions != true_labels)[0]\n",
        "\n",
        "if len(misclassified_indices) > 0:\n",
        "    plt.figure(figsize=(10, 5))\n",
        "    for i, idx in enumerate(misclassified_indices[:5]):  # Displaying the first 5 misclassified images\n",
        "        plt.subplot(1, 5, i + 1)\n",
        "        plt.imshow(test_images[idx], cmap='gray')\n",
        "        plt.title(f'True: {true_labels[idx]}, Pred: {predictions[idx]}')\n",
        "        plt.axis('off')\n",
        "    plt.show()\n",
        "else:\n",
        "    print(\"No misclassified images found.\")\n"
      ],
      "metadata": {
        "colab": {
          "base_uri": "https://localhost:8080/",
          "height": 211
        },
        "id": "EnJGM-6bgn-y",
        "outputId": "4ffe09b9-f9cd-453c-d8dc-b42f1c59d86f"
      },
      "execution_count": 277,
      "outputs": [
        {
          "output_type": "stream",
          "name": "stdout",
          "text": [
            "Test Accuracy: 91.89%\n"
          ]
        },
        {
          "output_type": "display_data",
          "data": {
            "text/plain": [
              "<Figure size 1000x500 with 5 Axes>"
            ],
            "image/png": "[encoded data removed]"
          },
          "metadata": {}
        }
      ]
    }
  ]
}