{
  "nbformat": 4,
  "nbformat_minor": 0,
  "metadata": {
    "colab": {
      "provenance": [],
      "name": "lab5.ipynb",
      "authorship_tag": "ABX9TyOaEI1tljdlNLwMcbr/sJeu",
      "include_colab_link": true
    },
    "kernelspec": {
      "name": "python3",
      "display_name": "Python 3"
    },
    "language_info": {
      "name": "python"
    }
  },
  "cells": [
    {
      "cell_type": "markdown",
      "metadata": {
        "id": "view-in-github",
        "colab_type": "text"
      },
      "source": [
        "<a href=\"https://colab.research.google.com/github/hemukurra/deep-learning/blob/main/lab5.ipynb\" target=\"_parent\"><img src=\"https://colab.research.google.com/assets/colab-badge.svg\" alt=\"Open In Colab\"/></a>"
      ]
    },
    {
      "cell_type": "code",
      "execution_count": null,
      "metadata": {
        "id": "ZvKVRYZX2wJT"
      },
      "outputs": [],
      "source": [
        "\n",
        "\n",
        "\n",
        "input_shape = (64, 64, 3)\n",
        "classes = 10\n",
        "\n",
        "X_input = Input(input_shape)\n",
        "\n",
        "# Zero-Padding\n",
        "X = ZeroPadding2D((3, 3))(X_input)\n",
        "\n",
        "# Stage 1\n",
        "X = Conv2D(64, (7, 7), strides=(2, 2), name='conv1', kernel_initializer=glorot_uniform(seed=0))(X)\n",
        "X = BatchNormalization(axis=3, name='bn_conv1')(X)\n",
        "X = Activation('relu')(X)\n",
        "X = MaxPooling2D((3, 3), strides=(2, 2))(X)\n",
        "\n",
        "# Stage 2 to save input value\n",
        "X_shortcut = X\n",
        "\n",
        "# your own ResNet\n",
        "X = Conv2D(filters=64, kernel_size=(3, 3), strides=(1, 1), padding='same', name='conv2a', kernel_initializer=glorot_uniform(seed=0))(X)\n",
        "X = BatchNormalization(axis=3, name='bn2a')(X)\n",
        "X = Activation('relu')(X)\n",
        "\n",
        "\n",
        "X = Conv2D(filters=64, kernel_size=(3, 3), strides=(1, 1), padding='same', name='conv2b', kernel_initializer=glorot_uniform(seed=0))(X)\n",
        "X = BatchNormalization(axis=3, name='bn2b')(X)\n",
        "\n",
        "# Adding a shortcut value to main path to pass it through a RELU activation\n",
        "X = Add()([X, X_shortcut])\n",
        "X = Activation('relu')(X)\n",
        "\n",
        "\n",
        "# Output layer\n",
        "X = Flatten()(X)\n",
        "X = Dense(classes, activation='softmax', name='fc' + str(classes), kernel_initializer=glorot_uniform(seed=0))(X)\n",
        "\n",
        "# Create model\n",
        "model = Model(inputs=X_input, outputs=X, name='ResNet50')\n"
      ]
    }
  ]
}